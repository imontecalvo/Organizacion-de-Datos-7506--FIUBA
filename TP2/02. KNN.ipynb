{
 "cells": [
  {
   "cell_type": "markdown",
   "id": "f41523b9-c3ee-44d9-9bd0-2941eb449118",
   "metadata": {},
   "source": [
    "# Cuidado! Lluvia de Hamburguesas: \n",
    "\n",
    "## Análisis con KNN (K-Nearest Neighbors)\n",
    "\n",
    "\n",
    "### Integrantes\n",
    "* Primerano Lomba, Franco Alejandro\n",
    "* Montecalvo, Ignacio"
   ]
  },
  {
   "cell_type": "markdown",
   "id": "a038456b-e630-4b95-b7e5-f9295cc406b7",
   "metadata": {},
   "source": [
    "## K-Nearest Neighbors\n",
    "\n",
    "A continuación realizaremos el analisis con KNN debido a que es un modelo con una logica bastante sencilla por detras pero que nos puede resultar de gran utilidad a la hora de querer hacer una clasificación.\n",
    "\n",
    "Para utilizar este modelo no suele ser recomendable tener gran cantidad de features debido a que el proceso de entrenamiento puede volverse demasiado lento ante un dataset con dimensionalidad muy grande. Por lo tanto, vamos a considerar primero realizar una reducción de dimensionalidad.\n",
    "\n",
    "Además, este modelo utiliza las distancias entre cada una de las instancias para determinar cuáles son vecinas entre sí. por lo tanto, va a funcionar mejor si previamente realizamos una normalizacion de nuestros datos de manera tal que los valores posibles de cada feature sean llevados a una misma escala. \n",
    "\n",
    "Los hiperparametros a definir son:\n",
    "\n",
    "* n_neighbors: Es la cantidad de vecinos que se utilizará para hacer la predicción\n",
    "* weights: Determina si todos los vecinos tienen la misma influencia (uniform) o si cada punto tiene un peso determinado por la inversa de la distancia (distance)\n",
    "\n",
    "Aclaración: si bien no es un hiperparámetro del modelo en cuestión, también vamos a definir mediante iteraciones la cantidad de dimensiones a la que realizaremos la reducción. "
   ]
  },
  {
   "cell_type": "markdown",
   "id": "9a7cfb51-0247-4620-87d2-1f617728b967",
   "metadata": {},
   "source": [
    "### Configuraciones iniciales"
   ]
  },
  {
   "cell_type": "code",
   "execution_count": 1,
   "id": "b9eef54e-98f6-4e9b-9204-9459dec2b3e2",
   "metadata": {},
   "outputs": [],
   "source": [
    "import pandas as pd\n",
    "import numpy as np\n",
    "import matplotlib.pyplot as plt\n",
    "\n",
    "from sklearn.neighbors import KNeighborsClassifier\n",
    "from sklearn.model_selection import GridSearchCV\n",
    "from sklearn.model_selection import KFold, StratifiedKFold\n",
    "from sklearn.metrics import roc_auc_score, auc, roc_curve, accuracy_score, recall_score, precision_score, f1_score\n",
    "\n",
    "from preprocessing import aplicarOneHot\n",
    "from preprocessing import aplicarPCA\n",
    "from preprocessing import normalizar_entre_0_y_1, estandarizar, normalizar_segun_maximo_valor_absoluto\n",
    "\n",
    "from auxiliares import obtener_training_set\n",
    "from auxiliares import obtener_valdev_set\n",
    "from auxiliares import obtener_prediccion_set\n",
    "from auxiliares import plot_confusion_matrix\n",
    "from auxiliares import plot_roc\n",
    "from auxiliares import crear_archivo_predicciones\n"
   ]
  },
  {
   "cell_type": "markdown",
   "id": "21188e6f-1281-40d0-8d7f-c17db012035b",
   "metadata": {},
   "source": [
    "Primero cargamos los datos de entrenamiento (65% del dataset original) al cual ya le hicimos el tratamiento de missing values"
   ]
  },
  {
   "cell_type": "code",
   "execution_count": 2,
   "id": "d48ff87f-aa43-4476-ace3-c0c4083287cf",
   "metadata": {},
   "outputs": [],
   "source": [
    "x,y = obtener_training_set()"
   ]
  },
  {
   "cell_type": "markdown",
   "id": "79a2859f-33ba-4302-9d06-f970c08f1e9e",
   "metadata": {},
   "source": [
    "### Preprocesamiento"
   ]
  },
  {
   "cell_type": "markdown",
   "id": "7d33d865-4bed-4f85-bc76-48bd1d72230c",
   "metadata": {},
   "source": [
    "#### Manejo de Missing Values\n",
    "El manejo de los Missing Values se realiza usando la misma lógica que en la primera parte del TP. De todas formas, ya importamos el dataset de entrenamiento con los missings solucionados"
   ]
  },
  {
   "cell_type": "markdown",
   "id": "c7beb2cb-3e2b-4b3f-b1ff-777b1f862e9a",
   "metadata": {
    "tags": []
   },
   "source": [
    "#### One Hot Encoding\n",
    "Después, aplicamos One-hot encoding para las variables categóricas:"
   ]
  },
  {
   "cell_type": "code",
   "execution_count": 3,
   "id": "1ed7044f-6229-49e8-8810-7abd846c7702",
   "metadata": {
    "tags": []
   },
   "outputs": [],
   "source": [
    "x = aplicarOneHot(x)"
   ]
  },
  {
   "cell_type": "markdown",
   "id": "689872c2-3b53-4753-ae83-9e6fb9e8081b",
   "metadata": {},
   "source": [
    "#### Reducción de dimensionalidad\n",
    "Luego reducimos la dimensionalidad. Creemos que una buena opción sería probar con MDS o Isomap ya que buscan preservar las distancias (distancia geodesica en el segundo caso) y justamente lo que nos interesa con KNN son las distancias pero debido al tamaño del dataset no es posible ya que se requiere generar la matriz de distancias que posee mas de 100.000 filas y columnas,  y devuelve error. Por lo tanto, probaremos con PCA para distintas cantidades de dimensiones\n"
   ]
  },
  {
   "cell_type": "code",
   "execution_count": 4,
   "id": "e362fe4b-89ec-4e6c-bd25-5de321a51f03",
   "metadata": {},
   "outputs": [
    {
     "name": "stdout",
     "output_type": "stream",
     "text": [
      "El numero minimo de componentes para explicar el 95% de la varianza es: 7\n"
     ]
    },
    {
     "data": {
      "image/png": "[encoded data removed]",
      "text/plain": [
       "<Figure size 720x360 with 1 Axes>"
      ]
     },
     "metadata": {},
     "output_type": "display_data"
    }
   ],
   "source": [
    "pca, componentes_principales = aplicarPCA(x,x)\n",
    "\n",
    "var_acumulada = np.cumsum(pca.explained_variance_ratio_) * 100\n",
    "\n",
    "# Cantidad minima de componentes que explican el 95% de varianza\n",
    "k = np.argmax(var_acumulada > 95)\n",
    "print(\"El numero minimo de componentes para explicar el 95% de la varianza es: \" + str(k+1))\n",
    "\n",
    "plt.figure(figsize=[10, 5])\n",
    "plt.title('Varianza acumulada explicada por componente')\n",
    "plt.ylabel('Varianza acumulada explicada')\n",
    "plt.xlabel('Componentes principales')\n",
    "plt.axvline(x=k, color=\"k\", linestyle=\"--\")\n",
    "plt.axhline(y=95, color=\"r\", linestyle=\"--\")\n",
    "ax = plt.plot(var_acumulada)"
   ]
  },
  {
   "cell_type": "markdown",
   "id": "b0b83b75-c149-4f2f-90a7-cc3fa725b1f8",
   "metadata": {},
   "source": [
    "Vemos que para 7 componentes ya alcanzamos una varianza mayor al 95%. Antes de elegir definitivamente dicha cantidad de componentes vamos a visualizar una tabla con el porcentaje de varianza explicada para las dimensiones 1 a 10"
   ]
  },
  {
   "cell_type": "code",
   "execution_count": 5,
   "id": "11764c26-cb86-4fcf-84cd-e9429bfdec42",
   "metadata": {},
   "outputs": [
    {
     "data": {
      "text/html": [
       "<style  type=\"text/css\" >\n",
       "#T_608e2ef0_65c1_11ec_8963_1f1ff80b23d3row6_col0{\n",
       "            background:  lightgreen;\n",
       "        }</style><table id=\"T_608e2ef0_65c1_11ec_8963_1f1ff80b23d3\" ><thead>    <tr>        <th class=\"blank level0\" ></th>        <th class=\"col_heading level0 col0\" >% de Varianza explicada</th>    </tr></thead><tbody>\n",
       "                <tr>\n",
       "                        <th id=\"T_608e2ef0_65c1_11ec_8963_1f1ff80b23d3level0_row0\" class=\"row_heading level0 row0\" >1</th>\n",
       "                        <td id=\"T_608e2ef0_65c1_11ec_8963_1f1ff80b23d3row0_col0\" class=\"data row0 col0\" >47.928051</td>\n",
       "            </tr>\n",
       "            <tr>\n",
       "                        <th id=\"T_608e2ef0_65c1_11ec_8963_1f1ff80b23d3level0_row1\" class=\"row_heading level0 row1\" >2</th>\n",
       "                        <td id=\"T_608e2ef0_65c1_11ec_8963_1f1ff80b23d3row1_col0\" class=\"data row1 col0\" >67.558004</td>\n",
       "            </tr>\n",
       "            <tr>\n",
       "                        <th id=\"T_608e2ef0_65c1_11ec_8963_1f1ff80b23d3level0_row2\" class=\"row_heading level0 row2\" >3</th>\n",
       "                        <td id=\"T_608e2ef0_65c1_11ec_8963_1f1ff80b23d3row2_col0\" class=\"data row2 col0\" >77.335566</td>\n",
       "            </tr>\n",
       "            <tr>\n",
       "                        <th id=\"T_608e2ef0_65c1_11ec_8963_1f1ff80b23d3level0_row3\" class=\"row_heading level0 row3\" >4</th>\n",
       "                        <td id=\"T_608e2ef0_65c1_11ec_8963_1f1ff80b23d3row3_col0\" class=\"data row3 col0\" >85.093426</td>\n",
       "            </tr>\n",
       "            <tr>\n",
       "                        <th id=\"T_608e2ef0_65c1_11ec_8963_1f1ff80b23d3level0_row4\" class=\"row_heading level0 row4\" >5</th>\n",
       "                        <td id=\"T_608e2ef0_65c1_11ec_8963_1f1ff80b23d3row4_col0\" class=\"data row4 col0\" >88.996584</td>\n",
       "            </tr>\n",
       "            <tr>\n",
       "                        <th id=\"T_608e2ef0_65c1_11ec_8963_1f1ff80b23d3level0_row5\" class=\"row_heading level0 row5\" >6</th>\n",
       "                        <td id=\"T_608e2ef0_65c1_11ec_8963_1f1ff80b23d3row5_col0\" class=\"data row5 col0\" >92.668310</td>\n",
       "            </tr>\n",
       "            <tr>\n",
       "                        <th id=\"T_608e2ef0_65c1_11ec_8963_1f1ff80b23d3level0_row6\" class=\"row_heading level0 row6\" >7</th>\n",
       "                        <td id=\"T_608e2ef0_65c1_11ec_8963_1f1ff80b23d3row6_col0\" class=\"data row6 col0\" >95.257347</td>\n",
       "            </tr>\n",
       "            <tr>\n",
       "                        <th id=\"T_608e2ef0_65c1_11ec_8963_1f1ff80b23d3level0_row7\" class=\"row_heading level0 row7\" >8</th>\n",
       "                        <td id=\"T_608e2ef0_65c1_11ec_8963_1f1ff80b23d3row7_col0\" class=\"data row7 col0\" >97.440355</td>\n",
       "            </tr>\n",
       "            <tr>\n",
       "                        <th id=\"T_608e2ef0_65c1_11ec_8963_1f1ff80b23d3level0_row8\" class=\"row_heading level0 row8\" >9</th>\n",
       "                        <td id=\"T_608e2ef0_65c1_11ec_8963_1f1ff80b23d3row8_col0\" class=\"data row8 col0\" >98.272494</td>\n",
       "            </tr>\n",
       "            <tr>\n",
       "                        <th id=\"T_608e2ef0_65c1_11ec_8963_1f1ff80b23d3level0_row9\" class=\"row_heading level0 row9\" >10</th>\n",
       "                        <td id=\"T_608e2ef0_65c1_11ec_8963_1f1ff80b23d3row9_col0\" class=\"data row9 col0\" >98.755170</td>\n",
       "            </tr>\n",
       "    </tbody></table>"
      ],
      "text/plain": [
       "<pandas.io.formats.style.Styler at 0x7fca5ee37280>"
      ]
     },
     "execution_count": 5,
     "metadata": {},
     "output_type": "execute_result"
    }
   ],
   "source": [
    "pd.DataFrame(data=var_acumulada[:10], \n",
    "             index=np.arange(1,11,1), \n",
    "             columns=['% de Varianza explicada']).style.apply(\n",
    "            lambda x: ['background: lightgreen' if (95< x['% de Varianza explicada'] < 96) else '' for i in x], axis=1)"
   ]
  },
  {
   "cell_type": "markdown",
   "id": "7d074db5-5c36-4f42-9171-4b22cb7e305f",
   "metadata": {},
   "source": [
    "Efectivamente, tal como se veia en el grafico, a medida que aumentamos las dimensiones el porcentaje de varianza explicada sube rapidamente. Finalmente, decidimos seleccionar 7 componentes porque creemos que un 95% de varianza explicada es suficiente, y a su vez para cantidades mas pequeñas de componentes comienza a incrementarse notablemente la diferencia de porcentaje de varianza explicada respecto de la de 7 componentes (para 5 componentes ya perdimos un 6% y apenas tenemos dos componentes menos)"
   ]
  },
  {
   "cell_type": "code",
   "execution_count": 6,
   "id": "0d426ea1-d81a-4438-95df-18fba105b4c9",
   "metadata": {},
   "outputs": [],
   "source": [
    "pca, componentes_principales = aplicarPCA(x, x, 7)"
   ]
  },
  {
   "cell_type": "markdown",
   "id": "45828994-c8c1-4668-9c7e-d04c4ef28464",
   "metadata": {
    "tags": []
   },
   "source": [
    "#### Normalización con valores entre 0 y 1"
   ]
  },
  {
   "cell_type": "markdown",
   "id": "494947d0-d729-4b33-b1d3-c38779d270cf",
   "metadata": {},
   "source": [
    "Una vez aplicada la reducción de dimensionalidad, procedemos a normalizar nuestros datos de manera tal que los valores posibles para cada uno de los features esté entre 0 y 1. Para ello usamos el MinMaxScaler."
   ]
  },
  {
   "cell_type": "code",
   "execution_count": 7,
   "id": "a8f7bb58-a38d-48a9-9329-e842f76c2491",
   "metadata": {},
   "outputs": [],
   "source": [
    "x_normalizado = normalizar_entre_0_y_1(componentes_principales, componentes_principales)"
   ]
  },
  {
   "cell_type": "markdown",
   "id": "a34aea5e-d80e-434c-a477-56c038919c6c",
   "metadata": {
    "tags": []
   },
   "source": [
    "#### Estandarización"
   ]
  },
  {
   "cell_type": "markdown",
   "id": "f2a8f9c8-2561-4069-91ad-74ccc9cc9986",
   "metadata": {},
   "source": [
    "Ahora probamos con aplicar otra forma de normalización, vamos a estandarizar los datos:"
   ]
  },
  {
   "cell_type": "code",
   "execution_count": 10,
   "id": "9d3d1c63-b257-41ee-b005-5581d3f7bb81",
   "metadata": {},
   "outputs": [],
   "source": [
    "x_estandarizado = estandarizar(pd.DataFrame(data=componentes_principales.copy()),pd.DataFrame(data=componentes_principales).copy())"
   ]
  },
  {
   "cell_type": "markdown",
   "id": "cf00649a-91df-4645-a0ec-364e43e0f2b9",
   "metadata": {},
   "source": [
    "#### Normalización Maximo Valor Absoluto"
   ]
  },
  {
   "cell_type": "markdown",
   "id": "8659954d-2496-4bd8-b1ed-de2558d3f547",
   "metadata": {},
   "source": [
    "Ahora probamos con aplicar otra forma de normalización, vamos a usar el Max Abs Scaler para escalar los datos:"
   ]
  },
  {
   "cell_type": "code",
   "execution_count": 13,
   "id": "ed3f209f-8d09-4b3c-8c27-6e74ebd4eabf",
   "metadata": {},
   "outputs": [],
   "source": [
    "x_normalizado_max_abs = normalizar_segun_maximo_valor_absoluto(componentes_principales,componentes_principales)"
   ]
  },
  {
   "cell_type": "markdown",
   "id": "4dbdedd0-f31b-4646-9a7d-c29a3b57df5e",
   "metadata": {},
   "source": [
    "### Selección de Hiperparámetros"
   ]
  },
  {
   "cell_type": "markdown",
   "id": "a5c5d3ed-f391-4867-9f1c-7deaf8779963",
   "metadata": {},
   "source": [
    "* Para seleccionar los mejores hiperparámetros vamos a usar Cross Validation con 5 folds estratificados. La evaluación se realizará usando como metrica el AUC ROC\n",
    "* El algoritmo a usar será 'Ball Tree' debido a que al estar optimizado puede que el tiempo empleado a la predicción sea menor.\n",
    "* La cantidad de vecinos que vamos a probar es: 10,20,40,60,80,100,150,200,500,1000,2000. Vamos hasta valores altos ya que tenemos gran cantidad de instancias.\n",
    "* Para los pesos probamos 'uniform' y 'distance', para la última nos quedamos con la métrica por default que es la distancia euclideana (lo ideal seria probar con mas distancias pero esto tomaría demasiado tiempo)"
   ]
  },
  {
   "cell_type": "markdown",
   "id": "e21fd455-bf3d-42e1-9e61-af5eb9be9fdb",
   "metadata": {},
   "source": [
    "#### Probamos con normalizar entre 0 y 1"
   ]
  },
  {
   "cell_type": "code",
   "execution_count": 8,
   "id": "4534a4b3-4ca0-45b2-98f3-f9312a98a238",
   "metadata": {
    "tags": []
   },
   "outputs": [
    {
     "data": {
      "text/plain": [
       "GridSearchCV(cv=StratifiedKFold(n_splits=5, random_state=119, shuffle=True),\n",
       "             estimator=KNeighborsClassifier(algorithm='ball_tree'), n_jobs=-1,\n",
       "             param_grid={'n_neighbors': [10, 20, 40, 60, 80, 100, 150, 200, 500,\n",
       "                                         1000, 2000],\n",
       "                         'weights': ['uniform', 'distance']},\n",
       "             scoring='roc_auc')"
      ]
     },
     "execution_count": 8,
     "metadata": {},
     "output_type": "execute_result"
    }
   ],
   "source": [
    "kf = StratifiedKFold(n_splits=5, shuffle=True, random_state=119)\n",
    "    \n",
    "knn_clasificador = KNeighborsClassifier(algorithm='ball_tree')\n",
    "gs_knn = GridSearchCV(knn_clasificador, {'n_neighbors':[10,20,40,60,80,100,150,200,500,1000,2000],'weights':['uniform','distance']}, n_jobs = -1, cv = kf, scoring ='roc_auc')\n",
    "gs_knn.fit(x_normalizado, y.llovieron_hamburguesas_al_dia_siguiente)"
   ]
  },
  {
   "cell_type": "code",
   "execution_count": 9,
   "id": "a33ccffd-28df-4965-be78-2ec02147e8d1",
   "metadata": {},
   "outputs": [
    {
     "data": {
      "text/html": [
       "<style  type=\"text/css\" >\n",
       "#T_50ab35d2_65c6_11ec_8963_1f1ff80b23d3row0_col0,#T_50ab35d2_65c6_11ec_8963_1f1ff80b23d3row0_col1,#T_50ab35d2_65c6_11ec_8963_1f1ff80b23d3row0_col2,#T_50ab35d2_65c6_11ec_8963_1f1ff80b23d3row0_col3,#T_50ab35d2_65c6_11ec_8963_1f1ff80b23d3row0_col4,#T_50ab35d2_65c6_11ec_8963_1f1ff80b23d3row0_col5{\n",
       "            background:  lightgreen;\n",
       "        }</style><table id=\"T_50ab35d2_65c6_11ec_8963_1f1ff80b23d3\" ><thead>    <tr>        <th class=\"blank level0\" ></th>        <th class=\"col_heading level0 col0\" >rank_test_score</th>        <th class=\"col_heading level0 col1\" >param_n_neighbors</th>        <th class=\"col_heading level0 col2\" >param_weights</th>        <th class=\"col_heading level0 col3\" >mean_test_score</th>        <th class=\"col_heading level0 col4\" >std_test_score</th>        <th class=\"col_heading level0 col5\" >mean_score_time</th>    </tr></thead><tbody>\n",
       "                <tr>\n",
       "                        <th id=\"T_50ab35d2_65c6_11ec_8963_1f1ff80b23d3level0_row0\" class=\"row_heading level0 row0\" >15</th>\n",
       "                        <td id=\"T_50ab35d2_65c6_11ec_8963_1f1ff80b23d3row0_col0\" class=\"data row0 col0\" >1</td>\n",
       "                        <td id=\"T_50ab35d2_65c6_11ec_8963_1f1ff80b23d3row0_col1\" class=\"data row0 col1\" >200</td>\n",
       "                        <td id=\"T_50ab35d2_65c6_11ec_8963_1f1ff80b23d3row0_col2\" class=\"data row0 col2\" >distance</td>\n",
       "                        <td id=\"T_50ab35d2_65c6_11ec_8963_1f1ff80b23d3row0_col3\" class=\"data row0 col3\" >0.852581</td>\n",
       "                        <td id=\"T_50ab35d2_65c6_11ec_8963_1f1ff80b23d3row0_col4\" class=\"data row0 col4\" >0.003681</td>\n",
       "                        <td id=\"T_50ab35d2_65c6_11ec_8963_1f1ff80b23d3row0_col5\" class=\"data row0 col5\" >39.858481</td>\n",
       "            </tr>\n",
       "            <tr>\n",
       "                        <th id=\"T_50ab35d2_65c6_11ec_8963_1f1ff80b23d3level0_row1\" class=\"row_heading level0 row1\" >13</th>\n",
       "                        <td id=\"T_50ab35d2_65c6_11ec_8963_1f1ff80b23d3row1_col0\" class=\"data row1 col0\" >2</td>\n",
       "                        <td id=\"T_50ab35d2_65c6_11ec_8963_1f1ff80b23d3row1_col1\" class=\"data row1 col1\" >150</td>\n",
       "                        <td id=\"T_50ab35d2_65c6_11ec_8963_1f1ff80b23d3row1_col2\" class=\"data row1 col2\" >distance</td>\n",
       "                        <td id=\"T_50ab35d2_65c6_11ec_8963_1f1ff80b23d3row1_col3\" class=\"data row1 col3\" >0.852369</td>\n",
       "                        <td id=\"T_50ab35d2_65c6_11ec_8963_1f1ff80b23d3row1_col4\" class=\"data row1 col4\" >0.003833</td>\n",
       "                        <td id=\"T_50ab35d2_65c6_11ec_8963_1f1ff80b23d3row1_col5\" class=\"data row1 col5\" >29.928460</td>\n",
       "            </tr>\n",
       "            <tr>\n",
       "                        <th id=\"T_50ab35d2_65c6_11ec_8963_1f1ff80b23d3level0_row2\" class=\"row_heading level0 row2\" >14</th>\n",
       "                        <td id=\"T_50ab35d2_65c6_11ec_8963_1f1ff80b23d3row2_col0\" class=\"data row2 col0\" >3</td>\n",
       "                        <td id=\"T_50ab35d2_65c6_11ec_8963_1f1ff80b23d3row2_col1\" class=\"data row2 col1\" >200</td>\n",
       "                        <td id=\"T_50ab35d2_65c6_11ec_8963_1f1ff80b23d3row2_col2\" class=\"data row2 col2\" >uniform</td>\n",
       "                        <td id=\"T_50ab35d2_65c6_11ec_8963_1f1ff80b23d3row2_col3\" class=\"data row2 col3\" >0.851901</td>\n",
       "                        <td id=\"T_50ab35d2_65c6_11ec_8963_1f1ff80b23d3row2_col4\" class=\"data row2 col4\" >0.003764</td>\n",
       "                        <td id=\"T_50ab35d2_65c6_11ec_8963_1f1ff80b23d3row2_col5\" class=\"data row2 col5\" >41.874852</td>\n",
       "            </tr>\n",
       "            <tr>\n",
       "                        <th id=\"T_50ab35d2_65c6_11ec_8963_1f1ff80b23d3level0_row3\" class=\"row_heading level0 row3\" >11</th>\n",
       "                        <td id=\"T_50ab35d2_65c6_11ec_8963_1f1ff80b23d3row3_col0\" class=\"data row3 col0\" >4</td>\n",
       "                        <td id=\"T_50ab35d2_65c6_11ec_8963_1f1ff80b23d3row3_col1\" class=\"data row3 col1\" >100</td>\n",
       "                        <td id=\"T_50ab35d2_65c6_11ec_8963_1f1ff80b23d3row3_col2\" class=\"data row3 col2\" >distance</td>\n",
       "                        <td id=\"T_50ab35d2_65c6_11ec_8963_1f1ff80b23d3row3_col3\" class=\"data row3 col3\" >0.851808</td>\n",
       "                        <td id=\"T_50ab35d2_65c6_11ec_8963_1f1ff80b23d3row3_col4\" class=\"data row3 col4\" >0.003771</td>\n",
       "                        <td id=\"T_50ab35d2_65c6_11ec_8963_1f1ff80b23d3row3_col5\" class=\"data row3 col5\" >15.393477</td>\n",
       "            </tr>\n",
       "            <tr>\n",
       "                        <th id=\"T_50ab35d2_65c6_11ec_8963_1f1ff80b23d3level0_row4\" class=\"row_heading level0 row4\" >12</th>\n",
       "                        <td id=\"T_50ab35d2_65c6_11ec_8963_1f1ff80b23d3row4_col0\" class=\"data row4 col0\" >5</td>\n",
       "                        <td id=\"T_50ab35d2_65c6_11ec_8963_1f1ff80b23d3row4_col1\" class=\"data row4 col1\" >150</td>\n",
       "                        <td id=\"T_50ab35d2_65c6_11ec_8963_1f1ff80b23d3row4_col2\" class=\"data row4 col2\" >uniform</td>\n",
       "                        <td id=\"T_50ab35d2_65c6_11ec_8963_1f1ff80b23d3row4_col3\" class=\"data row4 col3\" >0.851742</td>\n",
       "                        <td id=\"T_50ab35d2_65c6_11ec_8963_1f1ff80b23d3row4_col4\" class=\"data row4 col4\" >0.003927</td>\n",
       "                        <td id=\"T_50ab35d2_65c6_11ec_8963_1f1ff80b23d3row4_col5\" class=\"data row4 col5\" >16.673959</td>\n",
       "            </tr>\n",
       "    </tbody></table>"
      ],
      "text/plain": [
       "<pandas.io.formats.style.Styler at 0x7fca5eece3a0>"
      ]
     },
     "execution_count": 9,
     "metadata": {},
     "output_type": "execute_result"
    }
   ],
   "source": [
    "resultados = pd.DataFrame(gs_knn.cv_results_)\n",
    "resultados = resultados[resultados.rank_test_score <= 5].sort_values(by='rank_test_score', ascending=True)\n",
    "resultados = resultados[['rank_test_score','param_n_neighbors','param_weights','mean_test_score', 'std_test_score','mean_score_time']].style.apply(\n",
    "            lambda x: ['background: lightgreen' if (x.rank_test_score == 1) else '' for i in x], axis=1)\n",
    "resultados"
   ]
  },
  {
   "cell_type": "markdown",
   "id": "40e4029f-1dae-496a-89a0-8ece9041ff53",
   "metadata": {
    "tags": []
   },
   "source": [
    "#### Probamos con estandarizar"
   ]
  },
  {
   "cell_type": "code",
   "execution_count": 11,
   "id": "23b8af81-0d53-4e98-b875-357ead617951",
   "metadata": {},
   "outputs": [
    {
     "data": {
      "text/plain": [
       "GridSearchCV(cv=StratifiedKFold(n_splits=5, random_state=119, shuffle=True),\n",
       "             estimator=KNeighborsClassifier(algorithm='ball_tree'), n_jobs=-1,\n",
       "             param_grid={'n_neighbors': [10, 20, 40, 60, 80, 100, 150, 200, 500,\n",
       "                                         1000, 2000],\n",
       "                         'weights': ['uniform', 'distance']},\n",
       "             scoring='roc_auc')"
      ]
     },
     "execution_count": 11,
     "metadata": {},
     "output_type": "execute_result"
    }
   ],
   "source": [
    "kf = StratifiedKFold(n_splits=5, shuffle=True, random_state=119)\n",
    "    \n",
    "knn_clasificador2 = KNeighborsClassifier(algorithm='ball_tree')\n",
    "gs_knn2 = GridSearchCV(knn_clasificador2, {'n_neighbors':[10,20,40,60,80,100,150,200,500,1000,2000],'weights':['uniform','distance']}, n_jobs = -1, cv = kf, scoring ='roc_auc')\n",
    "gs_knn2.fit(x_estandarizado, y.llovieron_hamburguesas_al_dia_siguiente)"
   ]
  },
  {
   "cell_type": "code",
   "execution_count": 12,
   "id": "e00f41a5-c417-4603-9be5-be426ad90bea",
   "metadata": {},
   "outputs": [
    {
     "data": {
      "text/html": [
       "<style  type=\"text/css\" >\n",
       "#T_3015b4de_65ce_11ec_8963_1f1ff80b23d3row0_col0,#T_3015b4de_65ce_11ec_8963_1f1ff80b23d3row0_col1,#T_3015b4de_65ce_11ec_8963_1f1ff80b23d3row0_col2,#T_3015b4de_65ce_11ec_8963_1f1ff80b23d3row0_col3,#T_3015b4de_65ce_11ec_8963_1f1ff80b23d3row0_col4,#T_3015b4de_65ce_11ec_8963_1f1ff80b23d3row0_col5{\n",
       "            background:  lightgreen;\n",
       "        }</style><table id=\"T_3015b4de_65ce_11ec_8963_1f1ff80b23d3\" ><thead>    <tr>        <th class=\"blank level0\" ></th>        <th class=\"col_heading level0 col0\" >rank_test_score</th>        <th class=\"col_heading level0 col1\" >param_n_neighbors</th>        <th class=\"col_heading level0 col2\" >param_weights</th>        <th class=\"col_heading level0 col3\" >mean_test_score</th>        <th class=\"col_heading level0 col4\" >std_test_score</th>        <th class=\"col_heading level0 col5\" >mean_score_time</th>    </tr></thead><tbody>\n",
       "                <tr>\n",
       "                        <th id=\"T_3015b4de_65ce_11ec_8963_1f1ff80b23d3level0_row0\" class=\"row_heading level0 row0\" >15</th>\n",
       "                        <td id=\"T_3015b4de_65ce_11ec_8963_1f1ff80b23d3row0_col0\" class=\"data row0 col0\" >1</td>\n",
       "                        <td id=\"T_3015b4de_65ce_11ec_8963_1f1ff80b23d3row0_col1\" class=\"data row0 col1\" >200</td>\n",
       "                        <td id=\"T_3015b4de_65ce_11ec_8963_1f1ff80b23d3row0_col2\" class=\"data row0 col2\" >distance</td>\n",
       "                        <td id=\"T_3015b4de_65ce_11ec_8963_1f1ff80b23d3row0_col3\" class=\"data row0 col3\" >0.853120</td>\n",
       "                        <td id=\"T_3015b4de_65ce_11ec_8963_1f1ff80b23d3row0_col4\" class=\"data row0 col4\" >0.003850</td>\n",
       "                        <td id=\"T_3015b4de_65ce_11ec_8963_1f1ff80b23d3row0_col5\" class=\"data row0 col5\" >60.433205</td>\n",
       "            </tr>\n",
       "            <tr>\n",
       "                        <th id=\"T_3015b4de_65ce_11ec_8963_1f1ff80b23d3level0_row1\" class=\"row_heading level0 row1\" >13</th>\n",
       "                        <td id=\"T_3015b4de_65ce_11ec_8963_1f1ff80b23d3row1_col0\" class=\"data row1 col0\" >2</td>\n",
       "                        <td id=\"T_3015b4de_65ce_11ec_8963_1f1ff80b23d3row1_col1\" class=\"data row1 col1\" >150</td>\n",
       "                        <td id=\"T_3015b4de_65ce_11ec_8963_1f1ff80b23d3row1_col2\" class=\"data row1 col2\" >distance</td>\n",
       "                        <td id=\"T_3015b4de_65ce_11ec_8963_1f1ff80b23d3row1_col3\" class=\"data row1 col3\" >0.852959</td>\n",
       "                        <td id=\"T_3015b4de_65ce_11ec_8963_1f1ff80b23d3row1_col4\" class=\"data row1 col4\" >0.003961</td>\n",
       "                        <td id=\"T_3015b4de_65ce_11ec_8963_1f1ff80b23d3row1_col5\" class=\"data row1 col5\" >56.440148</td>\n",
       "            </tr>\n",
       "            <tr>\n",
       "                        <th id=\"T_3015b4de_65ce_11ec_8963_1f1ff80b23d3level0_row2\" class=\"row_heading level0 row2\" >14</th>\n",
       "                        <td id=\"T_3015b4de_65ce_11ec_8963_1f1ff80b23d3row2_col0\" class=\"data row2 col0\" >3</td>\n",
       "                        <td id=\"T_3015b4de_65ce_11ec_8963_1f1ff80b23d3row2_col1\" class=\"data row2 col1\" >200</td>\n",
       "                        <td id=\"T_3015b4de_65ce_11ec_8963_1f1ff80b23d3row2_col2\" class=\"data row2 col2\" >uniform</td>\n",
       "                        <td id=\"T_3015b4de_65ce_11ec_8963_1f1ff80b23d3row2_col3\" class=\"data row2 col3\" >0.852361</td>\n",
       "                        <td id=\"T_3015b4de_65ce_11ec_8963_1f1ff80b23d3row2_col4\" class=\"data row2 col4\" >0.003894</td>\n",
       "                        <td id=\"T_3015b4de_65ce_11ec_8963_1f1ff80b23d3row2_col5\" class=\"data row2 col5\" >58.463425</td>\n",
       "            </tr>\n",
       "            <tr>\n",
       "                        <th id=\"T_3015b4de_65ce_11ec_8963_1f1ff80b23d3level0_row3\" class=\"row_heading level0 row3\" >12</th>\n",
       "                        <td id=\"T_3015b4de_65ce_11ec_8963_1f1ff80b23d3row3_col0\" class=\"data row3 col0\" >4</td>\n",
       "                        <td id=\"T_3015b4de_65ce_11ec_8963_1f1ff80b23d3row3_col1\" class=\"data row3 col1\" >150</td>\n",
       "                        <td id=\"T_3015b4de_65ce_11ec_8963_1f1ff80b23d3row3_col2\" class=\"data row3 col2\" >uniform</td>\n",
       "                        <td id=\"T_3015b4de_65ce_11ec_8963_1f1ff80b23d3row3_col3\" class=\"data row3 col3\" >0.852253</td>\n",
       "                        <td id=\"T_3015b4de_65ce_11ec_8963_1f1ff80b23d3row3_col4\" class=\"data row3 col4\" >0.004043</td>\n",
       "                        <td id=\"T_3015b4de_65ce_11ec_8963_1f1ff80b23d3row3_col5\" class=\"data row3 col5\" >56.278780</td>\n",
       "            </tr>\n",
       "            <tr>\n",
       "                        <th id=\"T_3015b4de_65ce_11ec_8963_1f1ff80b23d3level0_row4\" class=\"row_heading level0 row4\" >11</th>\n",
       "                        <td id=\"T_3015b4de_65ce_11ec_8963_1f1ff80b23d3row4_col0\" class=\"data row4 col0\" >5</td>\n",
       "                        <td id=\"T_3015b4de_65ce_11ec_8963_1f1ff80b23d3row4_col1\" class=\"data row4 col1\" >100</td>\n",
       "                        <td id=\"T_3015b4de_65ce_11ec_8963_1f1ff80b23d3row4_col2\" class=\"data row4 col2\" >distance</td>\n",
       "                        <td id=\"T_3015b4de_65ce_11ec_8963_1f1ff80b23d3row4_col3\" class=\"data row4 col3\" >0.852228</td>\n",
       "                        <td id=\"T_3015b4de_65ce_11ec_8963_1f1ff80b23d3row4_col4\" class=\"data row4 col4\" >0.004192</td>\n",
       "                        <td id=\"T_3015b4de_65ce_11ec_8963_1f1ff80b23d3row4_col5\" class=\"data row4 col5\" >53.093980</td>\n",
       "            </tr>\n",
       "    </tbody></table>"
      ],
      "text/plain": [
       "<pandas.io.formats.style.Styler at 0x7fca5ea7f700>"
      ]
     },
     "execution_count": 12,
     "metadata": {},
     "output_type": "execute_result"
    }
   ],
   "source": [
    "resultados = pd.DataFrame(gs_knn2.cv_results_)\n",
    "resultados = resultados[resultados.rank_test_score <= 5].sort_values(by='rank_test_score', ascending=True)\n",
    "resultados = resultados[['rank_test_score','param_n_neighbors','param_weights','mean_test_score', 'std_test_score','mean_score_time']].style.apply(\n",
    "            lambda x: ['background: lightgreen' if (x.rank_test_score == 1) else '' for i in x], axis=1)\n",
    "resultados"
   ]
  },
  {
   "cell_type": "markdown",
   "id": "3ae765a9-74f3-4df2-9bf6-9949e3d8cee3",
   "metadata": {
    "tags": []
   },
   "source": [
    "#### Probamos con normalizar según Máximo Absoluto"
   ]
  },
  {
   "cell_type": "code",
   "execution_count": 14,
   "id": "028eefa8-66e1-4123-a281-11d3b8272d01",
   "metadata": {},
   "outputs": [
    {
     "data": {
      "text/plain": [
       "GridSearchCV(cv=StratifiedKFold(n_splits=5, random_state=119, shuffle=True),\n",
       "             estimator=KNeighborsClassifier(algorithm='ball_tree'), n_jobs=-1,\n",
       "             param_grid={'n_neighbors': [10, 20, 40, 60, 80, 100, 150, 200, 500,\n",
       "                                         1000, 2000],\n",
       "                         'weights': ['uniform', 'distance']},\n",
       "             scoring='roc_auc')"
      ]
     },
     "execution_count": 14,
     "metadata": {},
     "output_type": "execute_result"
    }
   ],
   "source": [
    "kf = StratifiedKFold(n_splits=5, shuffle=True, random_state=119)\n",
    "    \n",
    "knn_clasificador3 = KNeighborsClassifier(algorithm='ball_tree')\n",
    "gs_knn3 = GridSearchCV(knn_clasificador3, {'n_neighbors':[10,20,40,60,80,100,150,200,500,1000,2000],'weights':['uniform','distance']}, n_jobs = -1, cv = kf, scoring ='roc_auc')\n",
    "gs_knn3.fit(x_normalizado_max_abs, y.llovieron_hamburguesas_al_dia_siguiente)"
   ]
  },
  {
   "cell_type": "code",
   "execution_count": 15,
   "id": "889397db-1e07-4807-9833-d97f89fb84a5",
   "metadata": {},
   "outputs": [
    {
     "data": {
      "text/html": [
       "<style  type=\"text/css\" >\n",
       "#T_f30c0c4a_65d3_11ec_8963_1f1ff80b23d3row0_col0,#T_f30c0c4a_65d3_11ec_8963_1f1ff80b23d3row0_col1,#T_f30c0c4a_65d3_11ec_8963_1f1ff80b23d3row0_col2,#T_f30c0c4a_65d3_11ec_8963_1f1ff80b23d3row0_col3,#T_f30c0c4a_65d3_11ec_8963_1f1ff80b23d3row0_col4,#T_f30c0c4a_65d3_11ec_8963_1f1ff80b23d3row0_col5{\n",
       "            background:  lightgreen;\n",
       "        }</style><table id=\"T_f30c0c4a_65d3_11ec_8963_1f1ff80b23d3\" ><thead>    <tr>        <th class=\"blank level0\" ></th>        <th class=\"col_heading level0 col0\" >rank_test_score</th>        <th class=\"col_heading level0 col1\" >param_n_neighbors</th>        <th class=\"col_heading level0 col2\" >param_weights</th>        <th class=\"col_heading level0 col3\" >mean_test_score</th>        <th class=\"col_heading level0 col4\" >std_test_score</th>        <th class=\"col_heading level0 col5\" >mean_score_time</th>    </tr></thead><tbody>\n",
       "                <tr>\n",
       "                        <th id=\"T_f30c0c4a_65d3_11ec_8963_1f1ff80b23d3level0_row0\" class=\"row_heading level0 row0\" >13</th>\n",
       "                        <td id=\"T_f30c0c4a_65d3_11ec_8963_1f1ff80b23d3row0_col0\" class=\"data row0 col0\" >1</td>\n",
       "                        <td id=\"T_f30c0c4a_65d3_11ec_8963_1f1ff80b23d3row0_col1\" class=\"data row0 col1\" >150</td>\n",
       "                        <td id=\"T_f30c0c4a_65d3_11ec_8963_1f1ff80b23d3row0_col2\" class=\"data row0 col2\" >distance</td>\n",
       "                        <td id=\"T_f30c0c4a_65d3_11ec_8963_1f1ff80b23d3row0_col3\" class=\"data row0 col3\" >0.850621</td>\n",
       "                        <td id=\"T_f30c0c4a_65d3_11ec_8963_1f1ff80b23d3row0_col4\" class=\"data row0 col4\" >0.003871</td>\n",
       "                        <td id=\"T_f30c0c4a_65d3_11ec_8963_1f1ff80b23d3row0_col5\" class=\"data row0 col5\" >38.512562</td>\n",
       "            </tr>\n",
       "            <tr>\n",
       "                        <th id=\"T_f30c0c4a_65d3_11ec_8963_1f1ff80b23d3level0_row1\" class=\"row_heading level0 row1\" >15</th>\n",
       "                        <td id=\"T_f30c0c4a_65d3_11ec_8963_1f1ff80b23d3row1_col0\" class=\"data row1 col0\" >2</td>\n",
       "                        <td id=\"T_f30c0c4a_65d3_11ec_8963_1f1ff80b23d3row1_col1\" class=\"data row1 col1\" >200</td>\n",
       "                        <td id=\"T_f30c0c4a_65d3_11ec_8963_1f1ff80b23d3row1_col2\" class=\"data row1 col2\" >distance</td>\n",
       "                        <td id=\"T_f30c0c4a_65d3_11ec_8963_1f1ff80b23d3row1_col3\" class=\"data row1 col3\" >0.850601</td>\n",
       "                        <td id=\"T_f30c0c4a_65d3_11ec_8963_1f1ff80b23d3row1_col4\" class=\"data row1 col4\" >0.003641</td>\n",
       "                        <td id=\"T_f30c0c4a_65d3_11ec_8963_1f1ff80b23d3row1_col5\" class=\"data row1 col5\" >40.871776</td>\n",
       "            </tr>\n",
       "            <tr>\n",
       "                        <th id=\"T_f30c0c4a_65d3_11ec_8963_1f1ff80b23d3level0_row2\" class=\"row_heading level0 row2\" >12</th>\n",
       "                        <td id=\"T_f30c0c4a_65d3_11ec_8963_1f1ff80b23d3row2_col0\" class=\"data row2 col0\" >3</td>\n",
       "                        <td id=\"T_f30c0c4a_65d3_11ec_8963_1f1ff80b23d3row2_col1\" class=\"data row2 col1\" >150</td>\n",
       "                        <td id=\"T_f30c0c4a_65d3_11ec_8963_1f1ff80b23d3row2_col2\" class=\"data row2 col2\" >uniform</td>\n",
       "                        <td id=\"T_f30c0c4a_65d3_11ec_8963_1f1ff80b23d3row2_col3\" class=\"data row2 col3\" >0.849965</td>\n",
       "                        <td id=\"T_f30c0c4a_65d3_11ec_8963_1f1ff80b23d3row2_col4\" class=\"data row2 col4\" >0.003988</td>\n",
       "                        <td id=\"T_f30c0c4a_65d3_11ec_8963_1f1ff80b23d3row2_col5\" class=\"data row2 col5\" >37.409313</td>\n",
       "            </tr>\n",
       "            <tr>\n",
       "                        <th id=\"T_f30c0c4a_65d3_11ec_8963_1f1ff80b23d3level0_row3\" class=\"row_heading level0 row3\" >14</th>\n",
       "                        <td id=\"T_f30c0c4a_65d3_11ec_8963_1f1ff80b23d3row3_col0\" class=\"data row3 col0\" >4</td>\n",
       "                        <td id=\"T_f30c0c4a_65d3_11ec_8963_1f1ff80b23d3row3_col1\" class=\"data row3 col1\" >200</td>\n",
       "                        <td id=\"T_f30c0c4a_65d3_11ec_8963_1f1ff80b23d3row3_col2\" class=\"data row3 col2\" >uniform</td>\n",
       "                        <td id=\"T_f30c0c4a_65d3_11ec_8963_1f1ff80b23d3row3_col3\" class=\"data row3 col3\" >0.849839</td>\n",
       "                        <td id=\"T_f30c0c4a_65d3_11ec_8963_1f1ff80b23d3row3_col4\" class=\"data row3 col4\" >0.003741</td>\n",
       "                        <td id=\"T_f30c0c4a_65d3_11ec_8963_1f1ff80b23d3row3_col5\" class=\"data row3 col5\" >40.961273</td>\n",
       "            </tr>\n",
       "            <tr>\n",
       "                        <th id=\"T_f30c0c4a_65d3_11ec_8963_1f1ff80b23d3level0_row4\" class=\"row_heading level0 row4\" >11</th>\n",
       "                        <td id=\"T_f30c0c4a_65d3_11ec_8963_1f1ff80b23d3row4_col0\" class=\"data row4 col0\" >5</td>\n",
       "                        <td id=\"T_f30c0c4a_65d3_11ec_8963_1f1ff80b23d3row4_col1\" class=\"data row4 col1\" >100</td>\n",
       "                        <td id=\"T_f30c0c4a_65d3_11ec_8963_1f1ff80b23d3row4_col2\" class=\"data row4 col2\" >distance</td>\n",
       "                        <td id=\"T_f30c0c4a_65d3_11ec_8963_1f1ff80b23d3row4_col3\" class=\"data row4 col3\" >0.849706</td>\n",
       "                        <td id=\"T_f30c0c4a_65d3_11ec_8963_1f1ff80b23d3row4_col4\" class=\"data row4 col4\" >0.003696</td>\n",
       "                        <td id=\"T_f30c0c4a_65d3_11ec_8963_1f1ff80b23d3row4_col5\" class=\"data row4 col5\" >32.353509</td>\n",
       "            </tr>\n",
       "    </tbody></table>"
      ],
      "text/plain": [
       "<pandas.io.formats.style.Styler at 0x7fca5ea86520>"
      ]
     },
     "execution_count": 15,
     "metadata": {},
     "output_type": "execute_result"
    }
   ],
   "source": [
    "resultados = pd.DataFrame(gs_knn3.cv_results_)\n",
    "resultados = resultados[resultados.rank_test_score <= 5].sort_values(by='rank_test_score', ascending=True)\n",
    "resultados = resultados[['rank_test_score','param_n_neighbors','param_weights','mean_test_score','std_test_score','mean_score_time']].style.apply(\n",
    "            lambda x: ['background: lightgreen' if (x.rank_test_score == 1) else '' for i in x], axis=1)\n",
    "resultados"
   ]
  },
  {
   "cell_type": "markdown",
   "id": "983fbc8a-2252-428c-94d4-811d2561fbfb",
   "metadata": {},
   "source": [
    "#### Resultados"
   ]
  },
  {
   "cell_type": "markdown",
   "id": "3e8b28b6-2d11-4bd2-8410-45e554a4dd97",
   "metadata": {},
   "source": [
    "Podemos observar que los scores que se obtienen son parecidos para las dos primeras formas de normalización, además los mejores hiperparámetros coinciden. Sin embargo, con la estandarización el score es levemente más alto así que nos quedamos con este preprocesamiento.\n",
    "\n",
    "Entonces, concluimos en que los mejores hiperparámetros para KNN son:"
   ]
  },
  {
   "cell_type": "code",
   "execution_count": 16,
   "id": "63480e84-2e44-4d52-8288-0ebd14d657c5",
   "metadata": {},
   "outputs": [
    {
     "name": "stdout",
     "output_type": "stream",
     "text": [
      "Mejores hiperparámetros: \n",
      "\n",
      "\t* n_neighbors:  200 \n",
      "\t* weights:  distance\n"
     ]
    }
   ],
   "source": [
    "print(\"Mejores hiperparámetros: \\n\\n\\t* n_neighbors: \",gs_knn2.best_params_.get('n_neighbors'),\"\\n\\t* weights: \",gs_knn2.best_params_.get('weights'))"
   ]
  },
  {
   "cell_type": "markdown",
   "id": "f6507a77-13f4-45b7-91a5-2c2fa54d8d09",
   "metadata": {},
   "source": [
    "### Entrenamiento y evaluación del modelo"
   ]
  },
  {
   "cell_type": "markdown",
   "id": "21a60e7b-8f45-4c36-abac-33d7d12861d8",
   "metadata": {},
   "source": [
    "Nos quedamos con el mejor estimador y lo fiteamos con todos los datos de entrenamiento:"
   ]
  },
  {
   "cell_type": "code",
   "execution_count": 17,
   "id": "f0783357-a5f6-4419-84d5-e8a46d76a026",
   "metadata": {},
   "outputs": [
    {
     "data": {
      "text/plain": [
       "KNeighborsClassifier(algorithm='ball_tree', n_neighbors=200, weights='distance')"
      ]
     },
     "execution_count": 17,
     "metadata": {},
     "output_type": "execute_result"
    }
   ],
   "source": [
    "knn_clasificador = gs_knn2.best_estimator_\n",
    "knn_clasificador.fit(x_estandarizado, y.llovieron_hamburguesas_al_dia_siguiente)"
   ]
  },
  {
   "cell_type": "markdown",
   "id": "d0c901e1-6c4c-48a9-9e7d-0744bd15ac88",
   "metadata": {},
   "source": [
    "Ahora cargamos el set de datos con el que vamos a evaluar:"
   ]
  },
  {
   "cell_type": "code",
   "execution_count": 18,
   "id": "817fa935-c4f5-4a22-9892-49847bb07b9b",
   "metadata": {},
   "outputs": [],
   "source": [
    "x_val, y_val = obtener_valdev_set()"
   ]
  },
  {
   "cell_type": "markdown",
   "id": "95c3af37-448d-4b2c-834c-3773442dcfad",
   "metadata": {},
   "source": [
    "Aplicamos toda la lógica de preprocesamiento sobre estos datos de testing. Es importante destacar que sólo se utiliza información presente en el set de entrenamiento para realizar dicho preprocesamiento.  "
   ]
  },
  {
   "cell_type": "code",
   "execution_count": 19,
   "id": "fb021b84-fcfe-4eb3-b749-1264b6551338",
   "metadata": {},
   "outputs": [],
   "source": [
    "# Relleno de missing values -> Dataset cargado con missing values ya tratados\n",
    "\n",
    "# One Hot Encoding\n",
    "x_val = aplicarOneHot(x_val)\n",
    "\n",
    "# Aplicamos PCA (fiteado con los datos de entrenamiento)\n",
    "pca_val, componentes_principales_val = aplicarPCA(x,x_val,7)\n",
    "\n",
    "# Estandarizamos\n",
    "x_val_estandarizado = estandarizar(pd.DataFrame(data=componentes_principales_val),pd.DataFrame(data=componentes_principales_val))"
   ]
  },
  {
   "cell_type": "code",
   "execution_count": 20,
   "id": "5a9d03ac-ef10-4856-881b-299f8e64c90b",
   "metadata": {},
   "outputs": [],
   "source": [
    "predicciones_proba = knn_clasificador.predict_proba(x_val_estandarizado)\n",
    "predicciones = knn_clasificador.predict(x_val_estandarizado)"
   ]
  },
  {
   "cell_type": "markdown",
   "id": "a9c18ddb-5322-4ef0-be87-af469a986c48",
   "metadata": {},
   "source": [
    "### Scores"
   ]
  },
  {
   "cell_type": "markdown",
   "id": "e474a40a-9742-442f-97a2-fc132fc3d7e7",
   "metadata": {
    "tags": []
   },
   "source": [
    "#### AUC ROC\n",
    "\n"
   ]
  },
  {
   "cell_type": "code",
   "execution_count": 27,
   "id": "f23375a5-e547-4eca-b396-09d2b2161172",
   "metadata": {},
   "outputs": [
    {
     "data": {
      "image/png": "[encoded data removed]",
      "text/plain": [
       "<Figure size 1080x720 with 1 Axes>"
      ]
     },
     "metadata": {},
     "output_type": "display_data"
    },
    {
     "name": "stdout",
     "output_type": "stream",
     "text": [
      "AUC ROC SCORE:  0.8530334983350567\n"
     ]
    }
   ],
   "source": [
    "fpr, tpr, thresholds = roc_curve(y_val, predicciones_proba[:, 1], pos_label=\"si\")\n",
    "plot_roc(fpr, tpr, thresholds)\n",
    "auc = roc_auc_score(y_val, predicciones_proba[:, 1])\n",
    "print(\"AUC ROC SCORE: \",auc)"
   ]
  },
  {
   "cell_type": "markdown",
   "id": "e1e7243f-1bd1-46a1-b70c-5846ec7188e5",
   "metadata": {},
   "source": [
    "#### Matriz de confusión\n",
    "\n"
   ]
  },
  {
   "cell_type": "code",
   "execution_count": 22,
   "id": "6d588d36-d8e2-4574-bb7c-173d87e1fcf0",
   "metadata": {},
   "outputs": [
    {
     "data": {
      "image/png": "[encoded data removed]",
      "text/plain": [
       "<Figure size 600x400 with 2 Axes>"
      ]
     },
     "metadata": {},
     "output_type": "display_data"
    }
   ],
   "source": [
    "plot_confusion_matrix(y_val, predicciones)"
   ]
  },
  {
   "cell_type": "markdown",
   "id": "213fbd3b-fb39-444d-9a68-1c74c03ef949",
   "metadata": {
    "tags": []
   },
   "source": [
    "#### Accuracy"
   ]
  },
  {
   "cell_type": "code",
   "execution_count": 28,
   "id": "a8c8de94-eee8-498c-b227-683467ba2258",
   "metadata": {},
   "outputs": [
    {
     "name": "stdout",
     "output_type": "stream",
     "text": [
      "ACCURACY SCORE:  0.8399282473356547\n"
     ]
    }
   ],
   "source": [
    "accuracy =  accuracy_score(y_val,predicciones)\n",
    "print(\"ACCURACY SCORE: \",accuracy)"
   ]
  },
  {
   "cell_type": "markdown",
   "id": "ae0e0c27-48df-47aa-8856-fb091a95cd8e",
   "metadata": {
    "tags": []
   },
   "source": [
    "#### Precision y Recall \n",
    "\n"
   ]
  },
  {
   "cell_type": "code",
   "execution_count": 24,
   "id": "1914c02a-7232-4ab2-9e5f-453db63e0fec",
   "metadata": {},
   "outputs": [
    {
     "name": "stdout",
     "output_type": "stream",
     "text": [
      "PRECISION:  0.7773353751914241 \n",
      "RECALL:  0.3989311537252436\n"
     ]
    }
   ],
   "source": [
    "precision = precision_score(y_val.llovieron_hamburguesas_al_dia_siguiente,predicciones, pos_label='si')\n",
    "recall = recall_score(y_val.llovieron_hamburguesas_al_dia_siguiente,predicciones, pos_label='si')\n",
    "\n",
    "print(\"PRECISION: \",precision,\"\\nRECALL: \",recall)"
   ]
  },
  {
   "cell_type": "markdown",
   "id": "5ce69455-560e-4578-80ee-0172b83fb504",
   "metadata": {},
   "source": [
    "#### F1 Score"
   ]
  },
  {
   "cell_type": "code",
   "execution_count": 30,
   "id": "134f4260-b3df-43e3-96d2-46fd9d846e43",
   "metadata": {},
   "outputs": [
    {
     "name": "stdout",
     "output_type": "stream",
     "text": [
      "F1 SCORE:  0.527267061389841\n"
     ]
    }
   ],
   "source": [
    "f1 = f1_score(y_val, predicciones, pos_label='si')\n",
    "print(\"F1 SCORE: \", f1)"
   ]
  },
  {
   "cell_type": "code",
   "execution_count": 32,
   "id": "d372e933-9d91-4b7f-81a3-70fa1c5a7334",
   "metadata": {},
   "outputs": [
    {
     "data": {
      "text/html": [
       "<div>\n",
       "<style scoped>\n",
       "    .dataframe tbody tr th:only-of-type {\n",
       "        vertical-align: middle;\n",
       "    }\n",
       "\n",
       "    .dataframe tbody tr th {\n",
       "        vertical-align: top;\n",
       "    }\n",
       "\n",
       "    .dataframe thead th {\n",
       "        text-align: right;\n",
       "    }\n",
       "</style>\n",
       "<table border=\"1\" class=\"dataframe\">\n",
       "  <thead>\n",
       "    <tr style=\"text-align: right;\">\n",
       "      <th></th>\n",
       "      <th>KNN Scores</th>\n",
       "    </tr>\n",
       "  </thead>\n",
       "  <tbody>\n",
       "    <tr>\n",
       "      <th>AUC ROC</th>\n",
       "      <td>0.853033</td>\n",
       "    </tr>\n",
       "    <tr>\n",
       "      <th>Accuracy</th>\n",
       "      <td>0.839928</td>\n",
       "    </tr>\n",
       "    <tr>\n",
       "      <th>Precision</th>\n",
       "      <td>0.777335</td>\n",
       "    </tr>\n",
       "    <tr>\n",
       "      <th>Recall</th>\n",
       "      <td>0.398931</td>\n",
       "    </tr>\n",
       "    <tr>\n",
       "      <th>F1 Score</th>\n",
       "      <td>0.527267</td>\n",
       "    </tr>\n",
       "  </tbody>\n",
       "</table>\n",
       "</div>"
      ],
      "text/plain": [
       "           KNN Scores\n",
       "AUC ROC      0.853033\n",
       "Accuracy     0.839928\n",
       "Precision    0.777335\n",
       "Recall       0.398931\n",
       "F1 Score     0.527267"
      ]
     },
     "execution_count": 32,
     "metadata": {},
     "output_type": "execute_result"
    }
   ],
   "source": [
    "pd.DataFrame(data=[auc, accuracy, precision,recall,f1],\n",
    "             index= ['AUC ROC','Accuracy','Precision','Recall','F1 Score'],\n",
    "             columns=['KNN Scores'])"
   ]
  },
  {
   "cell_type": "markdown",
   "id": "37e76adb-8424-4181-9d2b-a4e560d74b47",
   "metadata": {},
   "source": [
    "#### Algunas observaciones"
   ]
  },
  {
   "cell_type": "markdown",
   "id": "e3260369-4f63-4ee9-8596-9c68dc824c89",
   "metadata": {},
   "source": [
    "* El AUC ROC es bastante decente por tratarse de un modelo con una lógica bastante simple por detrás.\n",
    "\n",
    "* Podemos observar que en la matriz de confusión destaca claramente los True Negative sobre el resto,  además el modelo tiende a predecir más Negative que Positive, lo cual se debe principalmente a la distribución que tienen los datos de entrenamiento.  \n",
    "\n",
    "* El Accuracy también es medianamente decente, aunque probablemente no sea una métrica muy útil por sí sola dado a que el set no estaba balanceado, por lo que el simple hecho de predecir siempre 'no' ya nos hubiera dado un accuracy cercano al 0.80\n",
    "\n",
    "* A su vez, la Precision obtenida es una de las mas altas en comparación con otros modelos, mientras que el Recall es bastante bajo debido a que nuestra Positive Label es 'si', y hay muchas menos instancias con target 'si' que con target 'no' por lo que hay menos True Positive y ante la presencia de fallos (especialmente False Negatives, los cuales superan a los True Positives), los scores disminuyen con mucha más facilidad. Esto lo podemos ver en las respectivas fórmulas:\n",
    "\n",
    "$$\n",
    "Precision=\\frac{TP}{TP+FP} \\ \\ ; \\ \\ Recall=\\frac{TP}{TP+FN}\n",
    "$$\n",
    "\n",
    "* En cuanto al F1 Score, este se calcula a partir del Recall y de la Precision, entonces como el Recall resultó ser basrante bajo, el F1 score resulta bajo también."
   ]
  },
  {
   "cell_type": "markdown",
   "id": "a6e52434-2db3-4f92-b603-1245a648f0bf",
   "metadata": {},
   "source": [
    "## Predicción sobre el nuevo dataset\n",
    "\n",
    "Realizamos la predicción sobre el nuevo dataset utilizando el preprocesamiento aplicado anteriormente"
   ]
  },
  {
   "cell_type": "code",
   "execution_count": 36,
   "id": "bbd2f175-80ad-4a6c-8027-effb6eba6bd7",
   "metadata": {},
   "outputs": [],
   "source": [
    "nuevo_ds = obtener_prediccion_set()\n",
    "ids_registro = np.array(nuevo_ds['id'])\n",
    "nuevo_ds.drop('id', inplace=True, axis=1)\n",
    "\n",
    "# One Hot Encoding\n",
    "x_nuevo = aplicarOneHot(nuevo_ds)\n",
    "\n",
    "# Aplicamos PCA (fiteado con los datos de entrenamiento)\n",
    "pca, componentes_principales = aplicarPCA(x,x_nuevo,7)\n",
    "\n",
    "# Normalizamos\n",
    "x_nuevo_estandarizado = estandarizar(pd.DataFrame(data=componentes_principales.copy()),pd.DataFrame(data=componentes_principales.copy()))\n",
    "\n",
    "predicciones = knn_clasificador.predict(x_nuevo_estandarizado)\n",
    "crear_archivo_predicciones(predicciones,\"KNN\",ids_registro)"
   ]
  }
 ],
 "metadata": {
  "kernelspec": {
   "display_name": "Python 3 (ipykernel)",
   "language": "python",
   "name": "python3"
  },
  "language_info": {
   "codemirror_mode": {
    "name": "ipython",
    "version": 3
   },
   "file_extension": ".py",
   "mimetype": "text/x-python",
   "name": "python",
   "nbconvert_exporter": "python",
   "pygments_lexer": "ipython3",
   "version": "3.8.10"
  }
 },
 "nbformat": 4,
 "nbformat_minor": 5
}

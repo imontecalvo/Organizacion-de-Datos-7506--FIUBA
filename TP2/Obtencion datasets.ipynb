{
 "cells": [
  {
   "cell_type": "markdown",
   "id": "c4b7d258-3681-4fc5-8220-ff99b8cb01c9",
   "metadata": {},
   "source": [
    "# Obtención de Datasets sin missings values"
   ]
  },
  {
   "cell_type": "markdown",
   "id": "22167e2d-69fb-4cc6-b765-47ba3b24d30e",
   "metadata": {},
   "source": [
    "Debido a que para todos los modelos aplicamos inicialmente la función 'obtener_datasets_sin_missings' mediante la cual manejamos los missing values del dataset, decidimos guardar ese dataset preprocesado en un archivo .csv de modo tal que sólo haya que importarlo en lugar de aplicar este preprocesamiento reiteradas veces ya que el KNN Imputer suele demorar algunos minutos. \n",
    "\n",
    "Los archivos obtenidos son:\n",
    "* Features del training set sin missings\n",
    "* Features del hold out set sin missings\n",
    "* Features del dataset utilizado para hacer predicción sin missings\n",
    "\n",
    "Cada uno de estos sets se encuentra junto a su respectivo target en la carpeta correspondiente."
   ]
  },
  {
   "cell_type": "code",
   "execution_count": 1,
   "id": "508959cf-016a-454a-9596-547a1a344639",
   "metadata": {},
   "outputs": [],
   "source": [
    "import pandas as pd\n",
    "from sklearn.model_selection import train_test_split\n",
    "from preprocessing import manejo_missing_values\n",
    "from auxiliares import obtener_datasets\n",
    "from auxiliares import obtener_dataset_final"
   ]
  },
  {
   "cell_type": "markdown",
   "id": "1f8d6b1d-c717-4f6a-b3be-89719fe85aaf",
   "metadata": {},
   "source": [
    "### Cargamos dataset original"
   ]
  },
  {
   "cell_type": "code",
   "execution_count": 2,
   "id": "9baad269-f5ad-40bf-83ae-ed0b41854cec",
   "metadata": {
    "tags": []
   },
   "outputs": [
    {
     "name": "stderr",
     "output_type": "stream",
     "text": [
      "/home/user/.local/lib/python3.8/site-packages/IPython/core/interactiveshell.py:3364: DtypeWarning: Columns (13) have mixed types.Specify dtype option on import or set low_memory=False.\n",
      "  if (await self.run_code(code, result,  async_=asy)):\n"
     ]
    }
   ],
   "source": [
    "x,y = obtener_datasets()"
   ]
  },
  {
   "cell_type": "markdown",
   "id": "0e97ee20-ed48-43b2-9fcb-4d9b28440fc7",
   "metadata": {},
   "source": [
    "### Separamos el 40% de las instancias para testing"
   ]
  },
  {
   "cell_type": "code",
   "execution_count": 3,
   "id": "5353be6e-effb-402f-8a72-1b0351224576",
   "metadata": {
    "tags": []
   },
   "outputs": [],
   "source": [
    "x, x_test, y, y_test = train_test_split(x, y, test_size=0.40, random_state=50, stratify=y)"
   ]
  },
  {
   "cell_type": "markdown",
   "id": "fe1e190d-e520-466e-9287-19c00761f327",
   "metadata": {},
   "source": [
    "### Separamos ahora el 37,5% del dataset de testing para holdout(Equivalente al 15% del dataset original)."
   ]
  },
  {
   "cell_type": "code",
   "execution_count": 4,
   "id": "71a5bbd6-8aab-4a86-aa23-a0b6191617f1",
   "metadata": {},
   "outputs": [],
   "source": [
    "x_valdev, x_holdout, y_valdev, y_holdout = train_test_split(x_test, y_test, test_size=0.375, random_state=50, stratify=y_test)"
   ]
  },
  {
   "cell_type": "markdown",
   "id": "df419ce1-f921-417b-8e79-cccce659ba61",
   "metadata": {},
   "source": [
    "### Manejamos missings del Training set"
   ]
  },
  {
   "cell_type": "code",
   "execution_count": 5,
   "id": "b2a363dc-a9db-4881-b9b9-24ab35d927af",
   "metadata": {},
   "outputs": [],
   "source": [
    "x_sin_missings = manejo_missing_values(x,x)"
   ]
  },
  {
   "cell_type": "code",
   "execution_count": 6,
   "id": "5522b6d9-0c82-4b3e-8554-934dfab841c6",
   "metadata": {},
   "outputs": [],
   "source": [
    "x_sin_missings.to_csv(\"Datasets/Training/features.csv\", index=False)\n",
    "y.to_csv(\"Datasets/Training/target.csv\", index=False)"
   ]
  },
  {
   "cell_type": "markdown",
   "id": "254d6f78-7fd6-4351-92cc-a48c7dcbc399",
   "metadata": {},
   "source": [
    "### Manejamos missings del Valdev set"
   ]
  },
  {
   "cell_type": "code",
   "execution_count": 7,
   "id": "152b316a-5f80-4b93-9063-9022bba7d3a1",
   "metadata": {},
   "outputs": [],
   "source": [
    "x_valdev_sin_missings = manejo_missing_values(x,x_valdev)"
   ]
  },
  {
   "cell_type": "code",
   "execution_count": 8,
   "id": "634b2079-9417-4f7a-a81b-93c636ba79c8",
   "metadata": {},
   "outputs": [],
   "source": [
    "x_valdev_sin_missings.to_csv(\"Datasets/Valdev/features.csv\", index=False)\n",
    "y_valdev.to_csv(\"Datasets/Valdev/target.csv\", index=False)"
   ]
  },
  {
   "cell_type": "markdown",
   "id": "9d869c64-ff5d-4f56-a065-1cff0a7f47f3",
   "metadata": {},
   "source": [
    "### Manejamos missings del set Hold out y del set de evaluación"
   ]
  },
  {
   "cell_type": "markdown",
   "id": "5e4d42f2-3da2-4535-81a1-71402c234e0f",
   "metadata": {},
   "source": [
    "Para ello aplicamos la misma lógica utilizada para el training set y además usamos los mismos datos (los del training set)"
   ]
  },
  {
   "cell_type": "code",
   "execution_count": null,
   "id": "ea61fbaf-28bf-41ed-9832-33637ec5e753",
   "metadata": {},
   "outputs": [],
   "source": [
    "x_holdout_sin_missings = manejo_missing_values(x,x_holdout)\n",
    "x_prediccion = obtener_dataset_final()\n",
    "x_pred_sin_missings = manejo_missing_values(x,x_prediccion)"
   ]
  },
  {
   "cell_type": "code",
   "execution_count": null,
   "id": "b1920665-d83f-47a1-af71-7d3a234e01b3",
   "metadata": {},
   "outputs": [],
   "source": [
    "x_holdout_sin_missings.to_csv(\"Datasets/Holdout/features.csv\", index=False)\n",
    "y_holdout.to_csv(\"Datasets/Holdout/target.csv\", index=False)\n",
    "\n",
    "x_pred_sin_missings.to_csv(\"Datasets/Prediccion/features.csv\", index=False)"
   ]
  }
 ],
 "metadata": {
  "kernelspec": {
   "display_name": "Python 3 (ipykernel)",
   "language": "python",
   "name": "python3"
  },
  "language_info": {
   "codemirror_mode": {
    "name": "ipython",
    "version": 3
   },
   "file_extension": ".py",
   "mimetype": "text/x-python",
   "name": "python",
   "nbconvert_exporter": "python",
   "pygments_lexer": "ipython3",
   "version": "3.8.10"
  }
 },
 "nbformat": 4,
 "nbformat_minor": 5
}
